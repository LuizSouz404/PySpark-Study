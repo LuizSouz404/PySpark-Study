{
 "cells": [
  {
   "attachments": {},
   "cell_type": "markdown",
   "metadata": {},
   "source": [
    "### PySpark Machine Learning\n"
   ]
  },
  {
   "cell_type": "code",
   "execution_count": 1,
   "metadata": {},
   "outputs": [],
   "source": [
    "from pyspark.sql import SparkSession"
   ]
  },
  {
   "cell_type": "code",
   "execution_count": 2,
   "metadata": {},
   "outputs": [],
   "source": [
    "spark=SparkSession.builder.appName('missing').getOrCreate()"
   ]
  },
  {
   "cell_type": "code",
   "execution_count": 3,
   "metadata": {},
   "outputs": [],
   "source": [
    "## read dataset\n",
    "training = spark.read.csv('mockdataML.csv',header=True,inferSchema=True)"
   ]
  },
  {
   "cell_type": "code",
   "execution_count": 4,
   "metadata": {},
   "outputs": [
    {
     "name": "stdout",
     "output_type": "stream",
     "text": [
      "+----------+--------------------+---+------+----------+\n",
      "|      name|         departament|age|salary|experience|\n",
      "+----------+--------------------+---+------+----------+\n",
      "|     Karyl|           Marketing| 42|  1641|        22|\n",
      "|   Dee dee|          Accounting| 42|  1282|        22|\n",
      "|   Chrisse|             Support| 38|  1053|        18|\n",
      "|     Prudi|         Engineering| 38|  1537|        18|\n",
      "|     Manon|            Training| 37|  1967|        17|\n",
      "|   Jillian|            Training| 31|  1855|        11|\n",
      "|  Merrilee|  Product Management| 26|  1372|         6|\n",
      "|   Tamqrah|  Product Management| 28|  1345|         8|\n",
      "|    Bronny|  Product Management| 42|  1959|        22|\n",
      "|    Connie|          Accounting| 44|  1266|        24|\n",
      "|  Packston|  Product Management| 31|  1638|        11|\n",
      "|    Catlin|          Accounting| 36|  1011|        16|\n",
      "|    Marris|             Support| 23|  1963|         3|\n",
      "|  Winfield|           Marketing| 35|  1567|        15|\n",
      "|    Shaina|               Legal| 32|  1129|        12|\n",
      "|Ermentrude|     Human Resources| 40|  1559|        20|\n",
      "|     Jyoti|Business Development| 42|  1715|        22|\n",
      "|      Tami|               Legal| 20|  1810|         0|\n",
      "|    Davina|Research and Deve...| 32|  1563|        12|\n",
      "|    Alford|           Marketing| 24|  1187|         4|\n",
      "+----------+--------------------+---+------+----------+\n",
      "only showing top 20 rows\n",
      "\n"
     ]
    }
   ],
   "source": [
    "training.show()"
   ]
  },
  {
   "cell_type": "code",
   "execution_count": 5,
   "metadata": {},
   "outputs": [
    {
     "name": "stdout",
     "output_type": "stream",
     "text": [
      "root\n",
      " |-- name: string (nullable = true)\n",
      " |-- departament: string (nullable = true)\n",
      " |-- age: integer (nullable = true)\n",
      " |-- salary: integer (nullable = true)\n",
      " |-- experience: integer (nullable = true)\n",
      "\n"
     ]
    }
   ],
   "source": [
    "training.printSchema()"
   ]
  },
  {
   "cell_type": "code",
   "execution_count": 10,
   "metadata": {},
   "outputs": [
    {
     "data": {
      "text/plain": [
       "['name', 'departament', 'age', 'salary', 'experience']"
      ]
     },
     "execution_count": 10,
     "metadata": {},
     "output_type": "execute_result"
    }
   ],
   "source": [
    "training.columns"
   ]
  },
  {
   "cell_type": "code",
   "execution_count": 12,
   "metadata": {},
   "outputs": [],
   "source": [
    "from pyspark.ml.feature import VectorAssembler"
   ]
  },
  {
   "cell_type": "code",
   "execution_count": 18,
   "metadata": {},
   "outputs": [],
   "source": [
    "featureassemble=VectorAssembler(inputCols=['age', 'experience'],outputCol='independent')"
   ]
  },
  {
   "cell_type": "code",
   "execution_count": 19,
   "metadata": {},
   "outputs": [],
   "source": [
    "output=featureassemble.transform(training)"
   ]
  },
  {
   "cell_type": "code",
   "execution_count": 20,
   "metadata": {},
   "outputs": [
    {
     "name": "stdout",
     "output_type": "stream",
     "text": [
      "+----------+--------------------+---+------+----------+-----------+\n",
      "|      name|         departament|age|salary|experience|independent|\n",
      "+----------+--------------------+---+------+----------+-----------+\n",
      "|     Karyl|           Marketing| 42|  1641|        22|[42.0,22.0]|\n",
      "|   Dee dee|          Accounting| 42|  1282|        22|[42.0,22.0]|\n",
      "|   Chrisse|             Support| 38|  1053|        18|[38.0,18.0]|\n",
      "|     Prudi|         Engineering| 38|  1537|        18|[38.0,18.0]|\n",
      "|     Manon|            Training| 37|  1967|        17|[37.0,17.0]|\n",
      "|   Jillian|            Training| 31|  1855|        11|[31.0,11.0]|\n",
      "|  Merrilee|  Product Management| 26|  1372|         6| [26.0,6.0]|\n",
      "|   Tamqrah|  Product Management| 28|  1345|         8| [28.0,8.0]|\n",
      "|    Bronny|  Product Management| 42|  1959|        22|[42.0,22.0]|\n",
      "|    Connie|          Accounting| 44|  1266|        24|[44.0,24.0]|\n",
      "|  Packston|  Product Management| 31|  1638|        11|[31.0,11.0]|\n",
      "|    Catlin|          Accounting| 36|  1011|        16|[36.0,16.0]|\n",
      "|    Marris|             Support| 23|  1963|         3| [23.0,3.0]|\n",
      "|  Winfield|           Marketing| 35|  1567|        15|[35.0,15.0]|\n",
      "|    Shaina|               Legal| 32|  1129|        12|[32.0,12.0]|\n",
      "|Ermentrude|     Human Resources| 40|  1559|        20|[40.0,20.0]|\n",
      "|     Jyoti|Business Development| 42|  1715|        22|[42.0,22.0]|\n",
      "|      Tami|               Legal| 20|  1810|         0| [20.0,0.0]|\n",
      "|    Davina|Research and Deve...| 32|  1563|        12|[32.0,12.0]|\n",
      "|    Alford|           Marketing| 24|  1187|         4| [24.0,4.0]|\n",
      "+----------+--------------------+---+------+----------+-----------+\n",
      "only showing top 20 rows\n",
      "\n"
     ]
    }
   ],
   "source": [
    "output.show()"
   ]
  },
  {
   "cell_type": "code",
   "execution_count": 21,
   "metadata": {},
   "outputs": [
    {
     "data": {
      "text/plain": [
       "['name', 'departament', 'age', 'salary', 'experience', 'independent']"
      ]
     },
     "execution_count": 21,
     "metadata": {},
     "output_type": "execute_result"
    }
   ],
   "source": [
    "output.columns"
   ]
  },
  {
   "cell_type": "code",
   "execution_count": 22,
   "metadata": {},
   "outputs": [],
   "source": [
    "finalized_data=output.select('independent','salary')"
   ]
  },
  {
   "cell_type": "code",
   "execution_count": 23,
   "metadata": {},
   "outputs": [
    {
     "name": "stdout",
     "output_type": "stream",
     "text": [
      "+-----------+------+\n",
      "|independent|salary|\n",
      "+-----------+------+\n",
      "|[42.0,22.0]|  1641|\n",
      "|[42.0,22.0]|  1282|\n",
      "|[38.0,18.0]|  1053|\n",
      "|[38.0,18.0]|  1537|\n",
      "|[37.0,17.0]|  1967|\n",
      "|[31.0,11.0]|  1855|\n",
      "| [26.0,6.0]|  1372|\n",
      "| [28.0,8.0]|  1345|\n",
      "|[42.0,22.0]|  1959|\n",
      "|[44.0,24.0]|  1266|\n",
      "|[31.0,11.0]|  1638|\n",
      "|[36.0,16.0]|  1011|\n",
      "| [23.0,3.0]|  1963|\n",
      "|[35.0,15.0]|  1567|\n",
      "|[32.0,12.0]|  1129|\n",
      "|[40.0,20.0]|  1559|\n",
      "|[42.0,22.0]|  1715|\n",
      "| [20.0,0.0]|  1810|\n",
      "|[32.0,12.0]|  1563|\n",
      "| [24.0,4.0]|  1187|\n",
      "+-----------+------+\n",
      "only showing top 20 rows\n",
      "\n"
     ]
    }
   ],
   "source": [
    "finalized_data.show()"
   ]
  },
  {
   "cell_type": "code",
   "execution_count": 24,
   "metadata": {},
   "outputs": [],
   "source": [
    "from pyspark.ml.regression import LinearRegression\n",
    "train_data,test_data = finalized_data.randomSplit([0.75,0.25])\n",
    "regressor=LinearRegression(featuresCol='independent', labelCol='salary')\n",
    "regressor=regressor.fit(train_data)"
   ]
  },
  {
   "cell_type": "code",
   "execution_count": 25,
   "metadata": {},
   "outputs": [
    {
     "data": {
      "text/plain": [
       "DenseVector([12.5984, -12.6682])"
      ]
     },
     "execution_count": 25,
     "metadata": {},
     "output_type": "execute_result"
    }
   ],
   "source": [
    "regressor.coefficients"
   ]
  },
  {
   "cell_type": "code",
   "execution_count": 26,
   "metadata": {},
   "outputs": [
    {
     "data": {
      "text/plain": [
       "1211.9884779542056"
      ]
     },
     "execution_count": 26,
     "metadata": {},
     "output_type": "execute_result"
    }
   ],
   "source": [
    "regressor.intercept"
   ]
  },
  {
   "cell_type": "code",
   "execution_count": 27,
   "metadata": {},
   "outputs": [],
   "source": [
    "pred_results=regressor.evaluate(test_data)"
   ]
  },
  {
   "cell_type": "code",
   "execution_count": 28,
   "metadata": {},
   "outputs": [
    {
     "name": "stdout",
     "output_type": "stream",
     "text": [
      "+-----------+------+------------------+\n",
      "|independent|salary|        prediction|\n",
      "+-----------+------+------------------+\n",
      "| [21.0,1.0]|  1557|1463.8861806215873|\n",
      "| [21.0,1.0]|  1960|1463.8861806215873|\n",
      "| [23.0,3.0]|  1078|1463.7466236848413|\n",
      "| [23.0,3.0]|  1963|1463.7466236848413|\n",
      "| [24.0,4.0]|  1620| 1463.676845216468|\n",
      "| [26.0,6.0]|  1410|1463.5372882797221|\n",
      "| [26.0,6.0]|  1518|1463.5372882797221|\n",
      "| [26.0,6.0]|  1676|1463.5372882797221|\n",
      "| [27.0,7.0]|  1130| 1463.467509811349|\n",
      "| [27.0,7.0]|  1365| 1463.467509811349|\n",
      "| [27.0,7.0]|  1884| 1463.467509811349|\n",
      "|[31.0,11.0]|  1638|1463.1883959378567|\n",
      "|[31.0,11.0]|  1648|1463.1883959378567|\n",
      "|[31.0,11.0]|  1855|1463.1883959378567|\n",
      "|[33.0,13.0]|  1230|1463.0488390011105|\n",
      "|[35.0,15.0]|  1567|1462.9092820643646|\n",
      "|[40.0,20.0]|  1955|1462.5603897224992|\n",
      "|[41.0,21.0]|  1289| 1462.490611254126|\n",
      "|[42.0,22.0]|  1534| 1462.420832785753|\n",
      "|[44.0,24.0]|  1377|1462.2812758490068|\n",
      "+-----------+------+------------------+\n",
      "\n"
     ]
    }
   ],
   "source": [
    "pred_results.predictions.show()"
   ]
  },
  {
   "cell_type": "code",
   "execution_count": 29,
   "metadata": {},
   "outputs": [
    {
     "data": {
      "text/plain": [
       "(235.74230243950205, 79718.84481676863)"
      ]
     },
     "execution_count": 29,
     "metadata": {},
     "output_type": "execute_result"
    }
   ],
   "source": [
    "pred_results.meanAbsoluteError,pred_results.meanSquaredError"
   ]
  },
  {
   "cell_type": "code",
   "execution_count": null,
   "metadata": {},
   "outputs": [],
   "source": []
  }
 ],
 "metadata": {
  "kernelspec": {
   "display_name": "Python 3",
   "language": "python",
   "name": "python3"
  },
  "language_info": {
   "codemirror_mode": {
    "name": "ipython",
    "version": 3
   },
   "file_extension": ".py",
   "mimetype": "text/x-python",
   "name": "python",
   "nbconvert_exporter": "python",
   "pygments_lexer": "ipython3",
   "version": "3.10.9"
  },
  "orig_nbformat": 4,
  "vscode": {
   "interpreter": {
    "hash": "8f5437e3a33b34886a217b21ce7905ec78d0dda33111439019a84ff297930988"
   }
  }
 },
 "nbformat": 4,
 "nbformat_minor": 2
}
