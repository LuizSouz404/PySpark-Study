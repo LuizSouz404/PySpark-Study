{
 "cells": [
  {
   "attachments": {},
   "cell_type": "markdown",
   "metadata": {},
   "source": [
    "### Pyspark Handling Missing Values\n",
    "- Dropping Columns\n",
    "- Dropping Rows\n",
    "- Various Parameter In Dropping functionalities\n",
    "- Handling Missing Values by Mean, Median and Mode"
   ]
  },
  {
   "cell_type": "code",
   "execution_count": 1,
   "metadata": {},
   "outputs": [],
   "source": [
    "from pyspark.sql import SparkSession\n",
    "spark=SparkSession.builder.appName('HandlingMissingValues').getOrCreate()"
   ]
  },
  {
   "cell_type": "code",
   "execution_count": 8,
   "metadata": {},
   "outputs": [],
   "source": [
    "df_pyspark=spark.read.csv('testHandling.csv',header=True,inferSchema=True)"
   ]
  },
  {
   "cell_type": "code",
   "execution_count": 9,
   "metadata": {},
   "outputs": [
    {
     "name": "stdout",
     "output_type": "stream",
     "text": [
      "+--------+----+----------+------+\n",
      "|    name| age|experience|salary|\n",
      "+--------+----+----------+------+\n",
      "|    Luiz|  21|         1|  1500|\n",
      "| Augusto|  48|        24|  2500|\n",
      "|Peterson|  23|         5|  1900|\n",
      "|   Brian|  11|      null|  null|\n",
      "|    null|  35|         5|  2600|\n",
      "|    null|  52|         0|  null|\n",
      "|    null|null|      null|  null|\n",
      "+--------+----+----------+------+\n",
      "\n"
     ]
    }
   ],
   "source": [
    "df_pyspark.show()"
   ]
  },
  {
   "cell_type": "code",
   "execution_count": 10,
   "metadata": {},
   "outputs": [
    {
     "name": "stdout",
     "output_type": "stream",
     "text": [
      "+----+----------+------+\n",
      "| age|experience|salary|\n",
      "+----+----------+------+\n",
      "|  21|         1|  1500|\n",
      "|  48|        24|  2500|\n",
      "|  23|         5|  1900|\n",
      "|  11|      null|  null|\n",
      "|  35|         5|  2600|\n",
      "|  52|         0|  null|\n",
      "|null|      null|  null|\n",
      "+----+----------+------+\n",
      "\n"
     ]
    }
   ],
   "source": [
    "## Drop the columns\n",
    "df_pyspark.drop('name').show()"
   ]
  },
  {
   "cell_type": "code",
   "execution_count": 12,
   "metadata": {},
   "outputs": [
    {
     "name": "stdout",
     "output_type": "stream",
     "text": [
      "+--------+---+----------+------+\n",
      "|    name|age|experience|salary|\n",
      "+--------+---+----------+------+\n",
      "|    Luiz| 21|         1|  1500|\n",
      "| Augusto| 48|        24|  2500|\n",
      "|Peterson| 23|         5|  1900|\n",
      "|   Brian| 11|         0|     0|\n",
      "+--------+---+----------+------+\n",
      "\n"
     ]
    }
   ],
   "source": [
    "df_pyspark.na.drop().show()"
   ]
  },
  {
   "cell_type": "code",
   "execution_count": 17,
   "metadata": {},
   "outputs": [
    {
     "name": "stdout",
     "output_type": "stream",
     "text": [
      "+--------+---+----------+------+\n",
      "|    name|age|experience|salary|\n",
      "+--------+---+----------+------+\n",
      "|    Luiz| 21|         1|  1500|\n",
      "| Augusto| 48|        24|  2500|\n",
      "|Peterson| 23|         5|  1900|\n",
      "|   Brian| 11|         0|     0|\n",
      "|    null| 35|         5|  2600|\n",
      "|    null| 52|         0|  null|\n",
      "+--------+---+----------+------+\n",
      "\n"
     ]
    }
   ],
   "source": [
    "## any=how\n",
    "## default is how=any if any data is na drop row\n",
    "## how=all if all values is na drop row\n",
    "df_pyspark.na.drop(how=\"all\").show()"
   ]
  },
  {
   "cell_type": "code",
   "execution_count": 19,
   "metadata": {},
   "outputs": [
    {
     "name": "stdout",
     "output_type": "stream",
     "text": [
      "+--------+---+----------+------+\n",
      "|    name|age|experience|salary|\n",
      "+--------+---+----------+------+\n",
      "|    Luiz| 21|         1|  1500|\n",
      "| Augusto| 48|        24|  2500|\n",
      "|Peterson| 23|         5|  1900|\n",
      "|   Brian| 11|         0|     0|\n",
      "|    null| 35|         5|  2600|\n",
      "|    null| 52|         0|  null|\n",
      "+--------+---+----------+------+\n",
      "\n"
     ]
    }
   ],
   "source": [
    "## threshold\n",
    "## threshold determines if n quantities of columns is not na to drop row \n",
    "## this example below is if a row has 2 fill row will be not dropped\n",
    "df_pyspark.na.drop(how=\"all\",thresh=2).show()"
   ]
  },
  {
   "cell_type": "code",
   "execution_count": 30,
   "metadata": {},
   "outputs": [
    {
     "name": "stdout",
     "output_type": "stream",
     "text": [
      "+--------+---+----------+------+\n",
      "|    name|age|experience|salary|\n",
      "+--------+---+----------+------+\n",
      "|    Luiz| 21|         1|  1500|\n",
      "| Augusto| 48|        24|  2500|\n",
      "|Peterson| 23|         5|  1900|\n",
      "|   Brian| 11|         0|     0|\n",
      "|    null| 35|         5|  2600|\n",
      "|    null| 52|         0|  null|\n",
      "+--------+---+----------+------+\n",
      "\n"
     ]
    }
   ],
   "source": [
    "## subset\n",
    "## subset drop row if one of subset values is na, subset is a AND conditional only works if all subset is null\n",
    "df_pyspark.na.drop(how=\"all\",subset=(['age'])).show()"
   ]
  },
  {
   "cell_type": "code",
   "execution_count": 32,
   "metadata": {},
   "outputs": [
    {
     "name": "stdout",
     "output_type": "stream",
     "text": [
      "+--------------+----+----------+------+\n",
      "|          name| age|experience|salary|\n",
      "+--------------+----+----------+------+\n",
      "|          Luiz|  21|         1|  1500|\n",
      "|       Augusto|  48|        24|  2500|\n",
      "|      Peterson|  23|         5|  1900|\n",
      "|         Brian|  11|         0|     0|\n",
      "|Missing Values|  35|         5|  2600|\n",
      "|Missing Values|  52|         0|  null|\n",
      "|Missing Values|null|      null|  null|\n",
      "+--------------+----+----------+------+\n",
      "\n"
     ]
    }
   ],
   "source": [
    "## Filling the Missing Values\n",
    "df_pyspark.na.fill('Missing Values', ['name','age']).show()"
   ]
  },
  {
   "cell_type": "code",
   "execution_count": 33,
   "metadata": {},
   "outputs": [
    {
     "name": "stdout",
     "output_type": "stream",
     "text": [
      "+--------+----+----------+------+\n",
      "|    name| age|experience|salary|\n",
      "+--------+----+----------+------+\n",
      "|    Luiz|  21|         1|  1500|\n",
      "| Augusto|  48|        24|  2500|\n",
      "|Peterson|  23|         5|  1900|\n",
      "|   Brian|  11|         0|     0|\n",
      "|    null|  35|         5|  2600|\n",
      "|    null|  52|         0|  null|\n",
      "|    null|null|      null|  null|\n",
      "+--------+----+----------+------+\n",
      "\n"
     ]
    }
   ],
   "source": [
    "df_pyspark.show()"
   ]
  },
  {
   "cell_type": "code",
   "execution_count": 40,
   "metadata": {},
   "outputs": [],
   "source": [
    "from pyspark.ml.feature import Imputer\n",
    "\n",
    "imputer = Imputer(\n",
    "  inputCols=['age','experience','salary'],\n",
    "  outputCols=['{}_imputed'.format(c) for c in ['age','experience','salary']]\n",
    ").setStrategy('median')"
   ]
  },
  {
   "cell_type": "code",
   "execution_count": 41,
   "metadata": {},
   "outputs": [
    {
     "name": "stdout",
     "output_type": "stream",
     "text": [
      "+--------+----+----------+------+-----------+------------------+--------------+\n",
      "|    name| age|experience|salary|age_imputed|experience_imputed|salary_imputed|\n",
      "+--------+----+----------+------+-----------+------------------+--------------+\n",
      "|    Luiz|  21|         1|  1500|         21|                 1|          1500|\n",
      "| Augusto|  48|        24|  2500|         48|                24|          2500|\n",
      "|Peterson|  23|         5|  1900|         23|                 5|          1900|\n",
      "|   Brian|  11|         0|     0|         11|                 0|             0|\n",
      "|    null|  35|         5|  2600|         35|                 5|          2600|\n",
      "|    null|  52|         0|  null|         52|                 0|          1900|\n",
      "|    null|null|      null|  null|         23|                 1|          1900|\n",
      "+--------+----+----------+------+-----------+------------------+--------------+\n",
      "\n"
     ]
    }
   ],
   "source": [
    "## Add imputation cols to df\n",
    "imputer.fit(df_pyspark).transform(df_pyspark).show()"
   ]
  },
  {
   "cell_type": "code",
   "execution_count": null,
   "metadata": {},
   "outputs": [],
   "source": []
  }
 ],
 "metadata": {
  "kernelspec": {
   "display_name": "Python 3",
   "language": "python",
   "name": "python3"
  },
  "language_info": {
   "codemirror_mode": {
    "name": "ipython",
    "version": 3
   },
   "file_extension": ".py",
   "mimetype": "text/x-python",
   "name": "python",
   "nbconvert_exporter": "python",
   "pygments_lexer": "ipython3",
   "version": "3.10.9"
  },
  "orig_nbformat": 4,
  "vscode": {
   "interpreter": {
    "hash": "8f5437e3a33b34886a217b21ce7905ec78d0dda33111439019a84ff297930988"
   }
  }
 },
 "nbformat": 4,
 "nbformat_minor": 2
}
