{
 "cells": [
  {
   "attachments": {},
   "cell_type": "markdown",
   "metadata": {},
   "source": [
    "### Pyspark Dataframes\n",
    "- Filter Operation\n",
    "- & | ==\n",
    "- ~"
   ]
  },
  {
   "cell_type": "code",
   "execution_count": 3,
   "metadata": {},
   "outputs": [],
   "source": [
    "from pyspark.sql import SparkSession"
   ]
  },
  {
   "cell_type": "code",
   "execution_count": 6,
   "metadata": {},
   "outputs": [],
   "source": [
    "spark=SparkSession.builder.appName('operation').getOrCreate()"
   ]
  },
  {
   "cell_type": "code",
   "execution_count": 10,
   "metadata": {},
   "outputs": [
    {
     "name": "stdout",
     "output_type": "stream",
     "text": [
      "+--------+---+------+\n",
      "|    name|age|salary|\n",
      "+--------+---+------+\n",
      "|    Luiz| 21|   500|\n",
      "|Peterson| 23|  1500|\n",
      "| Augusto| 48|  2000|\n",
      "|   Brian| 11|  1000|\n",
      "+--------+---+------+\n",
      "\n"
     ]
    }
   ],
   "source": [
    "df_pyspark=spark.read.csv('test.csv', header=True, inferSchema=True)\n",
    "df_pyspark.show()"
   ]
  },
  {
   "attachments": {},
   "cell_type": "markdown",
   "metadata": {},
   "source": [
    "## Filter Operation"
   ]
  },
  {
   "cell_type": "code",
   "execution_count": 11,
   "metadata": {},
   "outputs": [
    {
     "name": "stdout",
     "output_type": "stream",
     "text": [
      "+-----+---+------+\n",
      "| name|age|salary|\n",
      "+-----+---+------+\n",
      "| Luiz| 21|   500|\n",
      "|Brian| 11|  1000|\n",
      "+-----+---+------+\n",
      "\n"
     ]
    }
   ],
   "source": [
    "## Salary of people less than or equal to 1000\n",
    "df_pyspark.filter('salary<=1000').show()"
   ]
  },
  {
   "cell_type": "code",
   "execution_count": 12,
   "metadata": {},
   "outputs": [
    {
     "name": "stdout",
     "output_type": "stream",
     "text": [
      "+-----+---+\n",
      "| name|age|\n",
      "+-----+---+\n",
      "| Luiz| 21|\n",
      "|Brian| 11|\n",
      "+-----+---+\n",
      "\n"
     ]
    }
   ],
   "source": [
    "## Salary of people less than or equal to 1000\n",
    "df_pyspark.filter('salary<=1000').select(['name','age']).show()"
   ]
  },
  {
   "cell_type": "code",
   "execution_count": 17,
   "metadata": {},
   "outputs": [
    {
     "name": "stdout",
     "output_type": "stream",
     "text": [
      "+-----+---+------+\n",
      "| name|age|salary|\n",
      "+-----+---+------+\n",
      "| Luiz| 21|   500|\n",
      "|Brian| 11|  1000|\n",
      "+-----+---+------+\n",
      "\n"
     ]
    }
   ],
   "source": [
    "df_pyspark.filter(\n",
    "  (df_pyspark['age']<15) | \n",
    "  (df_pyspark['salary']<=1000)).show()"
   ]
  },
  {
   "cell_type": "code",
   "execution_count": 18,
   "metadata": {},
   "outputs": [
    {
     "name": "stdout",
     "output_type": "stream",
     "text": [
      "+--------+---+------+\n",
      "|    name|age|salary|\n",
      "+--------+---+------+\n",
      "|    Luiz| 21|   500|\n",
      "|Peterson| 23|  1500|\n",
      "| Augusto| 48|  2000|\n",
      "|   Brian| 11|  1000|\n",
      "+--------+---+------+\n",
      "\n"
     ]
    }
   ],
   "source": [
    "df_pyspark.filter(\n",
    "  ~(df_pyspark['age']<15) | \n",
    "  (df_pyspark['salary']<=1000)).show()"
   ]
  },
  {
   "cell_type": "code",
   "execution_count": null,
   "metadata": {},
   "outputs": [],
   "source": []
  }
 ],
 "metadata": {
  "kernelspec": {
   "display_name": "Python 3",
   "language": "python",
   "name": "python3"
  },
  "language_info": {
   "codemirror_mode": {
    "name": "ipython",
    "version": 3
   },
   "file_extension": ".py",
   "mimetype": "text/x-python",
   "name": "python",
   "nbconvert_exporter": "python",
   "pygments_lexer": "ipython3",
   "version": "3.10.9"
  },
  "orig_nbformat": 4,
  "vscode": {
   "interpreter": {
    "hash": "8f5437e3a33b34886a217b21ce7905ec78d0dda33111439019a84ff297930988"
   }
  }
 },
 "nbformat": 4,
 "nbformat_minor": 2
}
