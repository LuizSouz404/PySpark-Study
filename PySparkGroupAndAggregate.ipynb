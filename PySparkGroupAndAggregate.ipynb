{
 "cells": [
  {
   "attachments": {},
   "cell_type": "markdown",
   "metadata": {},
   "source": [
    "### PySpark GroupBy And Aggreagete Functions\n",
    "- GroupBy\n",
    "- Aggreagete"
   ]
  },
  {
   "cell_type": "code",
   "execution_count": 2,
   "metadata": {},
   "outputs": [],
   "source": [
    "from pyspark.sql import SparkSession"
   ]
  },
  {
   "cell_type": "code",
   "execution_count": 3,
   "metadata": {},
   "outputs": [],
   "source": [
    "spark=SparkSession.builder.appName('functions').getOrCreate()"
   ]
  },
  {
   "cell_type": "code",
   "execution_count": 4,
   "metadata": {},
   "outputs": [
    {
     "data": {
      "text/html": [
       "\n",
       "            <div>\n",
       "                <p><b>SparkSession - in-memory</b></p>\n",
       "                \n",
       "        <div>\n",
       "            <p><b>SparkContext</b></p>\n",
       "\n",
       "            <p><a href=\"http://6C4SWQ2.corp.mobicare.com.br:4040\">Spark UI</a></p>\n",
       "\n",
       "            <dl>\n",
       "              <dt>Version</dt>\n",
       "                <dd><code>v3.3.1</code></dd>\n",
       "              <dt>Master</dt>\n",
       "                <dd><code>local[*]</code></dd>\n",
       "              <dt>AppName</dt>\n",
       "                <dd><code>functions</code></dd>\n",
       "            </dl>\n",
       "        </div>\n",
       "        \n",
       "            </div>\n",
       "        "
      ],
      "text/plain": [
       "<pyspark.sql.session.SparkSession at 0x16f47b9fe80>"
      ]
     },
     "execution_count": 4,
     "metadata": {},
     "output_type": "execute_result"
    }
   ],
   "source": [
    "spark"
   ]
  },
  {
   "cell_type": "code",
   "execution_count": 17,
   "metadata": {},
   "outputs": [],
   "source": [
    "df_pyspark=spark.read.csv('mockdata.csv',header=True,inferSchema=True)"
   ]
  },
  {
   "cell_type": "code",
   "execution_count": 18,
   "metadata": {},
   "outputs": [
    {
     "name": "stdout",
     "output_type": "stream",
     "text": [
      "+---------+--------------------+---+------+------+\n",
      "|     name|         departament|age|gender|salary|\n",
      "+---------+--------------------+---+------+------+\n",
      "|     Hill|          Accounting| 19|  Male|  1092|\n",
      "|    Amber|Business Development| 21|Female|  1665|\n",
      "|     Joya|           Marketing| 24|Female|  1674|\n",
      "|  Myrilla|           Marketing| 25|Female|  1317|\n",
      "|  Brendin|               Legal| 20|  Male|  1131|\n",
      "|    Amber|  Product Management| 15|Female|  1927|\n",
      "|   Pietra|            Training| 19|Female|  1517|\n",
      "|  Murdoch|             Support| 16|  Male|  1002|\n",
      "|    Willy|         Engineering| 17|  Male|  1849|\n",
      "|    Xylia|Research and Deve...| 21|Female|  1801|\n",
      "|   Pascal|               Legal| 18|  Male|  1597|\n",
      "|    Della|            Training| 23|Female|  1337|\n",
      "|    Raina|     Human Resources| 17|Female|  1990|\n",
      "|   Austen|  Product Management| 21|  Male|  1732|\n",
      "|   Daveta|Business Development| 24|Female|  1139|\n",
      "|  Kikelia|             Support| 16|Female|  1739|\n",
      "| Christie|     Human Resources| 19|  Male|  1056|\n",
      "|Gualterio|         Engineering| 24|  Male|  1426|\n",
      "|    Bevin|               Sales| 15|  Male|  1286|\n",
      "| Marigold|               Sales| 16|Female|  1663|\n",
      "+---------+--------------------+---+------+------+\n",
      "only showing top 20 rows\n",
      "\n"
     ]
    }
   ],
   "source": [
    "df_pyspark.show()"
   ]
  },
  {
   "cell_type": "code",
   "execution_count": 19,
   "metadata": {},
   "outputs": [
    {
     "name": "stdout",
     "output_type": "stream",
     "text": [
      "root\n",
      " |-- name: string (nullable = true)\n",
      " |-- departament: string (nullable = true)\n",
      " |-- age: integer (nullable = true)\n",
      " |-- gender: string (nullable = true)\n",
      " |-- salary: integer (nullable = true)\n",
      "\n"
     ]
    }
   ],
   "source": [
    "df_pyspark.printSchema()"
   ]
  },
  {
   "cell_type": "code",
   "execution_count": 26,
   "metadata": {},
   "outputs": [
    {
     "name": "stdout",
     "output_type": "stream",
     "text": [
      "+--------------------+-----------+\n",
      "|         departament|sum(salary)|\n",
      "+--------------------+-----------+\n",
      "|            Services|      10514|\n",
      "|  Product Management|      13292|\n",
      "|               Sales|      20248|\n",
      "|         Engineering|      10983|\n",
      "|          Accounting|      14136|\n",
      "|Business Development|      14194|\n",
      "|Research and Deve...|      10148|\n",
      "|               Legal|       7641|\n",
      "|            Training|      17504|\n",
      "|           Marketing|       7000|\n",
      "|             Support|      13220|\n",
      "|     Human Resources|      10546|\n",
      "+--------------------+-----------+\n",
      "\n"
     ]
    }
   ],
   "source": [
    "## Groupby\n",
    "## grouped to find the maximum salary by department\n",
    "df_pyspark.groupBy('departament').sum('salary').show()"
   ]
  },
  {
   "cell_type": "code",
   "execution_count": 28,
   "metadata": {},
   "outputs": [
    {
     "name": "stdout",
     "output_type": "stream",
     "text": [
      "+---+-----------+\n",
      "|age|sum(salary)|\n",
      "+---+-----------+\n",
      "| 22|      13568|\n",
      "| 16|       9838|\n",
      "| 20|      13189|\n",
      "| 19|      12045|\n",
      "| 15|      14623|\n",
      "| 17|      15945|\n",
      "| 23|      17852|\n",
      "| 25|      16826|\n",
      "| 24|      13483|\n",
      "| 21|      12773|\n",
      "| 18|       9284|\n",
      "+---+-----------+\n",
      "\n"
     ]
    }
   ],
   "source": [
    "## Groupby\n",
    "## Groupby Age which gives to maximum age\n",
    "df_pyspark.groupBy('age').sum('salary').show()"
   ]
  },
  {
   "cell_type": "code",
   "execution_count": 29,
   "metadata": {},
   "outputs": [
    {
     "name": "stdout",
     "output_type": "stream",
     "text": [
      "+---+------------------+\n",
      "|age|       avg(salary)|\n",
      "+---+------------------+\n",
      "| 22|1507.5555555555557|\n",
      "| 16|1405.4285714285713|\n",
      "| 20|1465.4444444444443|\n",
      "| 19|1338.3333333333333|\n",
      "| 15|1624.7777777777778|\n",
      "| 17|1449.5454545454545|\n",
      "| 23|1487.6666666666667|\n",
      "| 25|            1682.6|\n",
      "| 24|            1348.3|\n",
      "| 21|          1596.625|\n",
      "| 18|1547.3333333333333|\n",
      "+---+------------------+\n",
      "\n"
     ]
    }
   ],
   "source": [
    "\n",
    "df_pyspark.groupBy('age').mean('salary').show()"
   ]
  },
  {
   "cell_type": "code",
   "execution_count": 30,
   "metadata": {},
   "outputs": [
    {
     "name": "stdout",
     "output_type": "stream",
     "text": [
      "+--------------------+-----+\n",
      "|         departament|count|\n",
      "+--------------------+-----+\n",
      "|            Services|    6|\n",
      "|  Product Management|    8|\n",
      "|               Sales|   13|\n",
      "|         Engineering|    7|\n",
      "|          Accounting|   10|\n",
      "|Business Development|   11|\n",
      "|Research and Deve...|    6|\n",
      "|               Legal|    5|\n",
      "|            Training|   12|\n",
      "|           Marketing|    5|\n",
      "|             Support|   10|\n",
      "|     Human Resources|    7|\n",
      "+--------------------+-----+\n",
      "\n"
     ]
    }
   ],
   "source": [
    "df_pyspark.groupBy('departament').count().show()"
   ]
  },
  {
   "cell_type": "code",
   "execution_count": 31,
   "metadata": {},
   "outputs": [
    {
     "name": "stdout",
     "output_type": "stream",
     "text": [
      "+-----------+\n",
      "|sum(salary)|\n",
      "+-----------+\n",
      "|     149426|\n",
      "+-----------+\n",
      "\n"
     ]
    }
   ],
   "source": [
    "df_pyspark.agg({'salary':'sum'}).show()"
   ]
  },
  {
   "cell_type": "code",
   "execution_count": 32,
   "metadata": {},
   "outputs": [
    {
     "name": "stdout",
     "output_type": "stream",
     "text": [
      "+--------------------+-----------+\n",
      "|         departament|max(salary)|\n",
      "+--------------------+-----------+\n",
      "|            Services|       1985|\n",
      "|  Product Management|       1927|\n",
      "|               Sales|       1956|\n",
      "|         Engineering|       1965|\n",
      "|          Accounting|       1778|\n",
      "|Business Development|       1856|\n",
      "|Research and Deve...|       1982|\n",
      "|               Legal|       1916|\n",
      "|            Training|       1822|\n",
      "|           Marketing|       1932|\n",
      "|             Support|       1739|\n",
      "|     Human Resources|       1990|\n",
      "+--------------------+-----------+\n",
      "\n"
     ]
    }
   ],
   "source": [
    "df_pyspark.groupBy('departament').max('salary').show()"
   ]
  },
  {
   "cell_type": "code",
   "execution_count": 33,
   "metadata": {},
   "outputs": [
    {
     "name": "stdout",
     "output_type": "stream",
     "text": [
      "+--------------------+-----------+\n",
      "|         departament|min(salary)|\n",
      "+--------------------+-----------+\n",
      "|            Services|       1533|\n",
      "|  Product Management|       1101|\n",
      "|               Sales|       1045|\n",
      "|         Engineering|       1135|\n",
      "|          Accounting|       1092|\n",
      "|Business Development|       1012|\n",
      "|Research and Deve...|       1226|\n",
      "|               Legal|       1131|\n",
      "|            Training|       1069|\n",
      "|           Marketing|       1038|\n",
      "|             Support|       1002|\n",
      "|     Human Resources|       1056|\n",
      "+--------------------+-----------+\n",
      "\n"
     ]
    }
   ],
   "source": [
    "df_pyspark.groupBy('departament').min('salary').show()"
   ]
  },
  {
   "cell_type": "code",
   "execution_count": 34,
   "metadata": {},
   "outputs": [
    {
     "name": "stdout",
     "output_type": "stream",
     "text": [
      "+--------------------+------------------+\n",
      "|         departament|       avg(salary)|\n",
      "+--------------------+------------------+\n",
      "|            Services|1752.3333333333333|\n",
      "|  Product Management|            1661.5|\n",
      "|               Sales|1557.5384615384614|\n",
      "|         Engineering|            1569.0|\n",
      "|          Accounting|            1413.6|\n",
      "|Business Development|1290.3636363636363|\n",
      "|Research and Deve...|1691.3333333333333|\n",
      "|               Legal|            1528.2|\n",
      "|            Training|1458.6666666666667|\n",
      "|           Marketing|            1400.0|\n",
      "|             Support|            1322.0|\n",
      "|     Human Resources|1506.5714285714287|\n",
      "+--------------------+------------------+\n",
      "\n"
     ]
    }
   ],
   "source": [
    "df_pyspark.groupBy('departament').avg('salary').show()"
   ]
  },
  {
   "cell_type": "code",
   "execution_count": 94,
   "metadata": {},
   "outputs": [
    {
     "name": "stdout",
     "output_type": "stream",
     "text": [
      "+--------------------+------+\n",
      "|         departament|salary|\n",
      "+--------------------+------+\n",
      "|            Services| 10514|\n",
      "|  Product Management| 13292|\n",
      "|               Sales| 20248|\n",
      "|         Engineering| 10983|\n",
      "|          Accounting| 14136|\n",
      "|Business Development| 14194|\n",
      "|Research and Deve...| 10148|\n",
      "|               Legal|  7641|\n",
      "|            Training| 17504|\n",
      "|           Marketing|  7000|\n",
      "|             Support| 13220|\n",
      "|     Human Resources| 10546|\n",
      "+--------------------+------+\n",
      "\n"
     ]
    }
   ],
   "source": [
    "temp_table=df_pyspark.groupBy('departament').sum('salary').withColumnRenamed('sum(salary)', 'salary')\n",
    "temp_table.show()"
   ]
  },
  {
   "cell_type": "code",
   "execution_count": 95,
   "metadata": {},
   "outputs": [
    {
     "name": "stdout",
     "output_type": "stream",
     "text": [
      "+--------------------+------+\n",
      "|         departament|salary|\n",
      "+--------------------+------+\n",
      "|               Sales| 20248|\n",
      "|            Training| 17504|\n",
      "|Business Development| 14194|\n",
      "|          Accounting| 14136|\n",
      "|  Product Management| 13292|\n",
      "|             Support| 13220|\n",
      "|         Engineering| 10983|\n",
      "|     Human Resources| 10546|\n",
      "|            Services| 10514|\n",
      "|Research and Deve...| 10148|\n",
      "|               Legal|  7641|\n",
      "|           Marketing|  7000|\n",
      "+--------------------+------+\n",
      "\n"
     ]
    }
   ],
   "source": [
    "temp_table.sort(temp_table.salary.desc()).show()"
   ]
  },
  {
   "cell_type": "code",
   "execution_count": null,
   "metadata": {},
   "outputs": [],
   "source": []
  }
 ],
 "metadata": {
  "kernelspec": {
   "display_name": "Python 3",
   "language": "python",
   "name": "python3"
  },
  "language_info": {
   "codemirror_mode": {
    "name": "ipython",
    "version": 3
   },
   "file_extension": ".py",
   "mimetype": "text/x-python",
   "name": "python",
   "nbconvert_exporter": "python",
   "pygments_lexer": "ipython3",
   "version": "3.10.9"
  },
  "orig_nbformat": 4,
  "vscode": {
   "interpreter": {
    "hash": "8f5437e3a33b34886a217b21ce7905ec78d0dda33111439019a84ff297930988"
   }
  }
 },
 "nbformat": 4,
 "nbformat_minor": 2
}
